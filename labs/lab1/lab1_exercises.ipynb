{
 "cells": [
  {
   "attachments": {},
   "cell_type": "markdown",
   "metadata": {
    "id": "dzNng6vCL9eP"
   },
   "source": [
    "# Machine Learning 2023-2024 - UMONS \n",
    "# Exploratory Data Analysis of the Pokemon dataset\n"
   ]
  },
  {
   "attachments": {},
   "cell_type": "markdown",
   "metadata": {},
   "source": [
    "The goal of the lab is to get more familiar with the Pandas library in Python, which will allow you to manipulate dataframes, compute the statistics of its variables, and visualize them. Data exploration is an important step before using any of the Machine Learning model that you'll discover through the course. It will grant you a deeper understanding of the content of the dataset, which will ease any a posteriori manipulation.   \n",
    "\n",
    "In this lab, we'll work with the 'Pokemon' dataset, which contains the attributes of several Pokemon across various generations:\n",
    "- `#`: ID for each pokemon\n",
    "- `Name`: name of each pokemon\n",
    "- `Type 1`: each pokemon has a type, this determines weakness/resistance to attacks\n",
    "- `Type 2`: second type for pokemons that are dual type\n",
    "- `Total`: sum of all stats that come after this, a general guide to how strong a pokemon is\n",
    "- `HP`: hit points, or health, defines how much damage a pokemon can withstand before fainting\n",
    "- `Attack`: the base modifier for normal attacks (eg. Scratch, Punch)\n",
    "- `Defense`: the base damage resistance against normal attacks\n",
    "- `SP Atk`: special attack, the base modifier for special attacks (e.g. fire blast, bubble beam)\n",
    "- `SP Def`: the base damage resistance against special attacks\n",
    "- `Speed`: determines which pokemon attacks first each round"
   ]
  },
  {
   "attachments": {},
   "cell_type": "markdown",
   "metadata": {},
   "source": [
    "**1. Import all necessary libraries**"
   ]
  },
  {
   "cell_type": "code",
   "execution_count": 39,
   "metadata": {
    "id": "dU4S-rek_gQe"
   },
   "outputs": [],
   "source": [
    "import matplotlib.pyplot as plt  # importing all the important packages\n",
    "import numpy as np\n",
    "import pandas as pd\n",
    "import seaborn as sns\n",
    "\n",
    "plt.style.use('fivethirtyeight')"
   ]
  },
  {
   "attachments": {},
   "cell_type": "markdown",
   "metadata": {},
   "source": [
    "**2.Read the csv file 'Pokemon.csv' and load it into a Dataframe. Print the 10 first rows.** "
   ]
  },
  {
   "attachments": {},
   "cell_type": "markdown",
   "metadata": {
    "id": "eLriTZtKBDTP"
   },
   "source": [
    "**3. Print technical informations of the Pokemon dataset using `.info()`.** "
   ]
  },
  {
   "attachments": {},
   "cell_type": "markdown",
   "metadata": {
    "id": "s1pHx3oR6w5G"
   },
   "source": [
    "**4. Get the shape of the dataframe.** "
   ]
  },
  {
   "attachments": {},
   "cell_type": "markdown",
   "metadata": {
    "id": "VuqDhanYR0v4"
   },
   "source": [
    "**5. Drop the \"#' column and set the dataframe index to the 'Name' column.**"
   ]
  },
  {
   "attachments": {},
   "cell_type": "markdown",
   "metadata": {
    "id": "DmeOC9UQaEo1"
   },
   "source": [
    "**6. Check if there are any missing values in the dataframe, and count them per column. For non numerical variables, replace the missing values by 'Unknown'. Check that the dataframe does not contain missing values anymore.**"
   ]
  },
  {
   "attachments": {},
   "cell_type": "markdown",
   "metadata": {
    "id": "hJiIx80ZFODG"
   },
   "source": [
    "**7. Change the data types of the variables 'Type 1' and 'Type 2' and 'Generation' to categorical data**."
   ]
  },
  {
   "attachments": {},
   "cell_type": "markdown",
   "metadata": {
    "id": "sfk3xosFZr3p"
   },
   "source": [
    "**8. Get general statistics (mean, standard deviation, ...) for the numerical variables of the dataset.** "
   ]
  },
  {
   "attachments": {},
   "cell_type": "markdown",
   "metadata": {
    "id": "wTEEsbxsatcg"
   },
   "source": [
    "**9. For the categorical variables, count the number of values per category, as well as the count of co-occurences, i.e. the times categorical variables occur simultaneously.**"
   ]
  },
  {
   "attachments": {},
   "cell_type": "markdown",
   "metadata": {},
   "source": [
    "**10. Get all the attributes of 'Bulbasaur'**."
   ]
  },
  {
   "attachments": {},
   "cell_type": "markdown",
   "metadata": {
    "id": "rnP-WJCAueWI"
   },
   "source": [
    "**11. Sort the dataframe by increasing values of 'Attack' and decreasing values of 'Defense' (i.e. if two Pokemons have the same value for 'Attack', the one with higher 'Defense' should appear first).** "
   ]
  },
  {
   "attachments": {},
   "cell_type": "markdown",
   "metadata": {
    "id": "qxOAc1B_mDUr"
   },
   "source": [
    "**12. Create a dataframe containing all Pokemons of type 1 'Psychic' having more than 100 in 'Attack', less than 40 in 'Defense' and more than 45 in Speed.**"
   ]
  },
  {
   "attachments": {},
   "cell_type": "markdown",
   "metadata": {
    "id": "OI07YycPoP9u"
   },
   "source": [
    "**13. Create two new columns, 'AttackAll' and 'DefenseAll', which correspond to the sum of 'Attack' and 'Sp. Attack' and the sum of 'Defense' and 'Sp. Defense', respectively.** "
   ]
  },
  {
   "attachments": {},
   "cell_type": "markdown",
   "metadata": {
    "id": "ZCNx4IaIq3o-"
   },
   "source": [
    "**14. Create a new column 'AtkOverDef' corresponding to the ratio of 'AttackAll' over 'DefenseAll' for each Pokemon.** "
   ]
  },
  {
   "attachments": {},
   "cell_type": "markdown",
   "metadata": {
    "id": "YJfaI8VKv64S"
   },
   "source": [
    "**15. Change the column names to upper cases, and remove the '.' in the column names, as well as blanks.** "
   ]
  },
  {
   "attachments": {},
   "cell_type": "markdown",
   "metadata": {
    "id": "oemote1Dwiil"
   },
   "source": [
    "**16. Plot an histogram of the different 'TYPE1' categories. The figure must be 16 inch wide and 4 inch high. \n",
    "Use the matplotlib.pyplot library and the countplot method from the seaborn librabry. The counts should appear in increasing order.**"
   ]
  },
  {
   "attachments": {},
   "cell_type": "markdown",
   "metadata": {
    "id": "Sd7rlq5RxgNa"
   },
   "source": [
    "**17. Do the same as above, but for the 'TYPE2' categories.** "
   ]
  },
  {
   "attachments": {},
   "cell_type": "markdown",
   "metadata": {
    "id": "HJQnPxOy0Cr0"
   },
   "source": [
    "**18. Plot the densities of the variables 'ATTACK', 'DEFENSE' and 'SPEED' onto three separates plots. Use the displot method of the library seaborn.**"
   ]
  },
  {
   "attachments": {},
   "cell_type": "markdown",
   "metadata": {
    "id": "8fZ4qb_N1QCH"
   },
   "source": [
    "**19. Plot the density of the variable 'ATTACK' for Legendary and non Legendary pokemons. The two densities should appear on different facets of the same plot.**"
   ]
  },
  {
   "attachments": {},
   "cell_type": "markdown",
   "metadata": {
    "id": "IwSqLytJ12_K"
   },
   "source": [
    "**20. Generate a scatter plot of the variable 'DEFENSE' on the y-axis, and the variable 'ATTACK' on the x-axis. Legendary and non-legendary Pokemons should be indicated using different colors.**"
   ]
  },
  {
   "attachments": {},
   "cell_type": "markdown",
   "metadata": {},
   "source": [
    "**21. Filter the dataframe to contain only Pokemons of generations 1 and 4. Using the filtered dataframe, generate a scatter plot of the variable 'TOTAL' on the y-axis, and the variable 'ATTACK' on the x-axis, by separating the two filtered generations. Note that, after filtering the dataframe, you can use the method `Series.cat.remove_unused_categories` to remove unused categories from the plot. The figure shoud be 8 inches high, and 8 inches wide.**"
   ]
  },
  {
   "attachments": {},
   "cell_type": "markdown",
   "metadata": {
    "id": "Ufr2rxpd2xgh"
   },
   "source": [
    "**22. Create a histogram of the variable 'GENERATION'. Separate legendary and non-legendary Pokemons. The counts should appear on the same figure in increasing order.** "
   ]
  },
  {
   "attachments": {},
   "cell_type": "markdown",
   "metadata": {
    "id": "YszwDTeJ3HyN"
   },
   "source": [
    "**23. Generate a boxplot of the variable 'TOTAL' with the method boxplot from the library seaborn. How to interpret it?** "
   ]
  },
  {
   "attachments": {},
   "cell_type": "markdown",
   "metadata": {
    "id": "PZeGkhZu3Y8i"
   },
   "source": [
    "**24. Generate one boxplot of the variable 'TOTAL' per category of the variable 'GENERATION'. Separate legendary and non-legendary Pokemons. All boxplots must appear on the same plot.**"
   ]
  }
 ],
 "metadata": {
  "colab": {
   "collapsed_sections": [],
   "name": "eda_pokemon_sol_22.ipynb",
   "provenance": []
  },
  "kernelspec": {
   "display_name": "base",
   "language": "python",
   "name": "python3"
  },
  "language_info": {
   "codemirror_mode": {
    "name": "ipython",
    "version": 3
   },
   "file_extension": ".py",
   "mimetype": "text/x-python",
   "name": "python",
   "nbconvert_exporter": "python",
   "pygments_lexer": "ipython3",
   "version": "3.9.12"
  },
  "vscode": {
   "interpreter": {
    "hash": "bfe0e2b9b67a2fcef00021a1d2a516837bff30cf713e434b27f739f4afd30381"
   }
  }
 },
 "nbformat": 4,
 "nbformat_minor": 0
}
