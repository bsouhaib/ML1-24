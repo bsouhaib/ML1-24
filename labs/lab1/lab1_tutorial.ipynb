{
  "cells": [
    {
      "cell_type": "markdown",
      "metadata": {
        "id": "dzNng6vCL9eP"
      },
      "source": [
        "# Machine Learning 2023-2024 - UMONS\n",
        "# Exploratory Data Analysis with Pandas (Tutorial)\n"
      ]
    },
    {
      "cell_type": "markdown",
      "metadata": {
        "id": "wDdRvjpmZ4Wk"
      },
      "source": [
        "In this tutorial, we experiment with the library Pandas on the dataset titanic."
      ]
    },
    {
      "cell_type": "markdown",
      "metadata": {
        "id": "-Lgi4gafS9iV"
      },
      "source": [
        "**Load necessary libraries**"
      ]
    },
    {
      "cell_type": "code",
      "execution_count": null,
      "metadata": {
        "id": "ShHUznyQUsyc"
      },
      "outputs": [],
      "source": [
        "import pandas as pd\n",
        "import matplotlib.pyplot as plt\n",
        "import seaborn as sns\n",
        "from IPython.display import Image"
      ]
    },
    {
      "cell_type": "markdown",
      "metadata": {
        "id": "KOpoylW-S9iV"
      },
      "source": [
        "**Load a dataframe from an Excel file**"
      ]
    },
    {
      "cell_type": "code",
      "execution_count": null,
      "metadata": {
        "colab": {
          "base_uri": "https://localhost:8080/",
          "height": 423
        },
        "id": "9kb6pDIOUsye",
        "outputId": "dd823b06-26ed-4245-c19b-8197e9ce6721"
      },
      "outputs": [],
      "source": [
        "raw_data = pd.read_excel(\"data/titanic.xls\")\n",
        "raw_data"
      ]
    },
    {
      "cell_type": "markdown",
      "metadata": {
        "id": "AK5kvGu1Usyf"
      },
      "source": [
        "1.  **pclass:** Socio-economic class (1 = Upper class; 2 = Middle class; 3 = Lower class)\n",
        "2.  **survived:** Outcome of survival (0 = No; 1 = Yes)\n",
        "3.  **name:** Name of passenger\n",
        "4.  **sex:** Sex of the passenger\n",
        "5.  **age:** Age of the passenger (Some entries contain NaN)\n",
        "6.  **sibsp:** Number of siblings and spouses of the passenger aboard\n",
        "7.  **parch:** Number of parents and children of the passenger aboard\n",
        "8.  **ticket:** Ticket number of the passenger\n",
        "9.  **fare:** Fare paid by the passenger\n",
        "10. **cabin:** Cabin number of the passenger (Some entries contain NaN)\n",
        "11. **embarked:** Port of embarkation of the passenger (C = Cherbourg; Q = Queenstown; S = Southampton)\n",
        "12. ..."
      ]
    },
    {
      "cell_type": "markdown",
      "metadata": {},
      "source": [
        "## Overview of the dataframe"
      ]
    },
    {
      "cell_type": "markdown",
      "metadata": {
        "id": "6I0Q34vYS9iW"
      },
      "source": [
        "**The shape represents the number of rows and columns in the dataframe**"
      ]
    },
    {
      "cell_type": "code",
      "execution_count": null,
      "metadata": {
        "colab": {
          "base_uri": "https://localhost:8080/"
        },
        "id": "nNxXZ7gvUsyf",
        "outputId": "013cbd97-c477-4ecc-8b07-2ed21552754c"
      },
      "outputs": [],
      "source": [
        "raw_data.shape"
      ]
    },
    {
      "cell_type": "markdown",
      "metadata": {
        "id": "iza2HFfES9iW"
      },
      "source": [
        "**Get column names**"
      ]
    },
    {
      "cell_type": "code",
      "execution_count": null,
      "metadata": {
        "colab": {
          "base_uri": "https://localhost:8080/"
        },
        "id": "aAG_R62IUsyg",
        "outputId": "2149db86-e8cd-4d37-e722-d83dab704bf3"
      },
      "outputs": [],
      "source": [
        "raw_data.columns"
      ]
    },
    {
      "cell_type": "markdown",
      "metadata": {
        "id": "RoEw-FvES9iW"
      },
      "source": [
        "**Get data types of each column**"
      ]
    },
    {
      "cell_type": "code",
      "execution_count": null,
      "metadata": {
        "colab": {
          "base_uri": "https://localhost:8080/"
        },
        "id": "mRudGOGlUsyg",
        "outputId": "f5e5b79a-704f-46a8-ecb1-5852a7753314"
      },
      "outputs": [],
      "source": [
        "raw_data.dtypes"
      ]
    },
    {
      "cell_type": "markdown",
      "metadata": {
        "id": "Pe7glceiS9iW"
      },
      "source": [
        "**Get dataframe technical informations**"
      ]
    },
    {
      "cell_type": "code",
      "execution_count": null,
      "metadata": {
        "colab": {
          "base_uri": "https://localhost:8080/"
        },
        "id": "7_sj1_1cUsyf",
        "outputId": "30760fe4-901e-4271-a827-47eddb23b204"
      },
      "outputs": [],
      "source": [
        "raw_data.info()"
      ]
    },
    {
      "cell_type": "markdown",
      "metadata": {
        "id": "gie17UsuS9iX"
      },
      "source": [
        "**Get Dataframe summary statistics for numerical variables**"
      ]
    },
    {
      "cell_type": "code",
      "execution_count": null,
      "metadata": {
        "colab": {
          "base_uri": "https://localhost:8080/",
          "height": 300
        },
        "id": "X9PUkTtcUsyi",
        "outputId": "4d66bf9c-a686-42b8-c0fd-5e867baa6d21"
      },
      "outputs": [],
      "source": [
        "with pd.option_context('display.precision', 1): # We only display one decimal place\n",
        "    display(raw_data.describe())"
      ]
    },
    {
      "cell_type": "markdown",
      "metadata": {
        "id": "YWi7Ox6XS9iY"
      },
      "source": [
        "**Set a chosen column as index**"
      ]
    },
    {
      "cell_type": "code",
      "execution_count": null,
      "metadata": {
        "colab": {
          "base_uri": "https://localhost:8080/",
          "height": 455
        },
        "id": "NfBB0UkBUsyl",
        "outputId": "a98965f0-58b4-4695-c8f9-7c02e2b0713a"
      },
      "outputs": [],
      "source": [
        "raw_data = raw_data.set_index(\"name\")\n",
        "raw_data"
      ]
    },
    {
      "cell_type": "markdown",
      "metadata": {},
      "source": [
        "**Get the name of columns in the index**"
      ]
    },
    {
      "cell_type": "code",
      "execution_count": null,
      "metadata": {},
      "outputs": [],
      "source": [
        "raw_data.index.names"
      ]
    },
    {
      "cell_type": "markdown",
      "metadata": {},
      "source": [
        "**Remov all columns from the index**"
      ]
    },
    {
      "cell_type": "code",
      "execution_count": null,
      "metadata": {},
      "outputs": [],
      "source": [
        "raw_data = raw_data.reset_index()"
      ]
    },
    {
      "cell_type": "markdown",
      "metadata": {
        "id": "KhqFCVrzUsyl"
      },
      "source": [
        "## Data cleaning"
      ]
    },
    {
      "cell_type": "markdown",
      "metadata": {},
      "source": [
        "**Check for missing values**"
      ]
    },
    {
      "cell_type": "code",
      "execution_count": null,
      "metadata": {},
      "outputs": [],
      "source": [
        "raw_data.isna()"
      ]
    },
    {
      "cell_type": "markdown",
      "metadata": {
        "id": "KISnVtP1S9iY"
      },
      "source": [
        "**Count the number of missing values per column.**"
      ]
    },
    {
      "cell_type": "code",
      "execution_count": null,
      "metadata": {
        "colab": {
          "base_uri": "https://localhost:8080/"
        },
        "id": "B-JfJVgMUsyl",
        "outputId": "2ed3a807-82bf-4d2c-8eb8-b6eef2b22ac6"
      },
      "outputs": [],
      "source": [
        "raw_data.isna().sum()"
      ]
    },
    {
      "cell_type": "markdown",
      "metadata": {
        "id": "-aBFtdU5S9iY"
      },
      "source": [
        "**Count the number of non-missing values per column.**"
      ]
    },
    {
      "cell_type": "code",
      "execution_count": null,
      "metadata": {
        "colab": {
          "base_uri": "https://localhost:8080/"
        },
        "id": "8uiIyXDXUsyl",
        "outputId": "c6b37eed-176c-4e5c-81bd-babd15dd0ccc"
      },
      "outputs": [],
      "source": [
        "raw_data.notna().sum()"
      ]
    },
    {
      "cell_type": "markdown",
      "metadata": {
        "id": "Jsz2iaCbS9iY"
      },
      "source": [
        "**Get the proportion of missing values per column, and sort them in descending order.**"
      ]
    },
    {
      "cell_type": "code",
      "execution_count": null,
      "metadata": {
        "colab": {
          "base_uri": "https://localhost:8080/"
        },
        "id": "gmRj0zQ-Usyl",
        "outputId": "b6f91323-fb2c-4b98-911a-300021cfc965"
      },
      "outputs": [],
      "source": [
        "raw_data.isna().mean().sort_values(ascending=False)"
      ]
    },
    {
      "cell_type": "markdown",
      "metadata": {
        "id": "CNxYh-DIS9iY"
      },
      "source": [
        "**Create a heatmap of missing values per column.**"
      ]
    },
    {
      "cell_type": "code",
      "execution_count": null,
      "metadata": {
        "colab": {
          "base_uri": "https://localhost:8080/",
          "height": 513
        },
        "id": "HPap511kUsym",
        "outputId": "84cc2603-4700-42e4-f84c-a6a5b10d0034"
      },
      "outputs": [],
      "source": [
        "sns.heatmap(raw_data.isna(), cmap='gray');"
      ]
    },
    {
      "cell_type": "markdown",
      "metadata": {
        "id": "3Xe1il4MUsym"
      },
      "source": [
        "### Dealing with missing values\n",
        "\n",
        "- Remove missing values:\n",
        "    - Remove rows/columns with missing columns\n",
        "    - Drop rows/columns by percentage of missing values  \n",
        "    - See `pd.dropna(axis= , thresh= )`\n",
        "- Impute missing values:\n",
        "    - Filling with generic values\n",
        "    - Filling with central tendencies\n",
        "    - See `pd.fillna()`, `pd.bfill()`, `pd.ffill()`, etc\n",
        "\n"
      ]
    },
    {
      "cell_type": "markdown",
      "metadata": {
        "id": "9MRezoNLS9iZ"
      },
      "source": [
        "**Check the missing values for a specific column.**"
      ]
    },
    {
      "cell_type": "code",
      "execution_count": null,
      "metadata": {
        "colab": {
          "base_uri": "https://localhost:8080/"
        },
        "id": "l_W1j3daUsym",
        "outputId": "3a75f556-fdc0-455f-99ab-0f1ef729343a"
      },
      "outputs": [],
      "source": [
        "raw_data[\"embarked\"].isna()"
      ]
    },
    {
      "cell_type": "markdown",
      "metadata": {
        "id": "MzslxZmJS9ic"
      },
      "source": [
        "**Count the number of missing values for a specific column**"
      ]
    },
    {
      "cell_type": "code",
      "execution_count": null,
      "metadata": {
        "colab": {
          "base_uri": "https://localhost:8080/"
        },
        "id": "8SeuvOvAUsym",
        "outputId": "0ae0252e-40fc-40af-e613-61129112977f"
      },
      "outputs": [],
      "source": [
        "raw_data[\"embarked\"].isna().sum()  # only 2 missing values"
      ]
    },
    {
      "cell_type": "markdown",
      "metadata": {
        "id": "uWSu-A1bS9ic"
      },
      "source": [
        "**Count the occurrences of a categorical variable, including missing values.**"
      ]
    },
    {
      "cell_type": "code",
      "execution_count": null,
      "metadata": {
        "colab": {
          "base_uri": "https://localhost:8080/"
        },
        "id": "_7NYjfBjUsym",
        "outputId": "840ed1af-b5c4-4c03-b4aa-f239c04ad0e9"
      },
      "outputs": [],
      "source": [
        "raw_data[\"embarked\"].value_counts(dropna=False)"
      ]
    },
    {
      "cell_type": "markdown",
      "metadata": {
        "id": "SXyg3HYYS9id"
      },
      "source": [
        "**Replace missing values with the most represented class.**"
      ]
    },
    {
      "cell_type": "code",
      "execution_count": null,
      "metadata": {
        "id": "IjhGo0krUsyn"
      },
      "outputs": [],
      "source": [
        "raw_data[\"embarked\"].fillna(\"S\", inplace=True)"
      ]
    },
    {
      "cell_type": "markdown",
      "metadata": {
        "id": "uY29f3QqS9id"
      },
      "source": [
        "**Drop specified columns.**"
      ]
    },
    {
      "cell_type": "code",
      "execution_count": null,
      "metadata": {
        "colab": {
          "base_uri": "https://localhost:8080/",
          "height": 206
        },
        "id": "ouDzSrukUsyn",
        "outputId": "1869fb67-a09f-420a-8b3d-8c4de5dba39a"
      },
      "outputs": [],
      "source": [
        "data = raw_data.drop(\n",
        "    [\"name\", \"sibsp\", \"parch\", \"ticket\", \"fare\", \"cabin\", \"embarked\", \"boat\", \"body\", \"home.dest\"],\n",
        "    axis=1,\n",
        ")\n",
        "data.head()"
      ]
    },
    {
      "cell_type": "code",
      "execution_count": null,
      "metadata": {
        "colab": {
          "base_uri": "https://localhost:8080/"
        },
        "id": "CaGpJY2uUsyn",
        "outputId": "e9af1df4-4148-4900-e0eb-47b5313a3c9f"
      },
      "outputs": [],
      "source": [
        "data[\"age\"].isna().sum()"
      ]
    },
    {
      "cell_type": "markdown",
      "metadata": {
        "id": "iqKcTeKaS9id"
      },
      "source": [
        "**Drop all rows that contain a missing value.**"
      ]
    },
    {
      "cell_type": "code",
      "execution_count": null,
      "metadata": {
        "colab": {
          "base_uri": "https://localhost:8080/"
        },
        "id": "lOU6gtDDUsyn",
        "outputId": "f496c588-1a25-40cb-8c04-159e0f87c044"
      },
      "outputs": [],
      "source": [
        "data.dropna(axis=0, inplace=True)\n",
        "data.shape"
      ]
    },
    {
      "cell_type": "markdown",
      "metadata": {
        "id": "2KZIYMtwS9id"
      },
      "source": [
        "**Assert no missing values remain in a chosen column.**"
      ]
    },
    {
      "cell_type": "code",
      "execution_count": null,
      "metadata": {
        "id": "Mo48-uHrUsyn"
      },
      "outputs": [],
      "source": [
        "assert data[\"age\"].notna().all()"
      ]
    },
    {
      "cell_type": "markdown",
      "metadata": {
        "id": "PqTCtfkfS9id"
      },
      "source": [
        "**Change data type of a chosen column.**"
      ]
    },
    {
      "cell_type": "code",
      "execution_count": null,
      "metadata": {
        "id": "fWtwlrd_Usyo"
      },
      "outputs": [],
      "source": [
        "data[\"sex\"] = data[\"sex\"].astype(\"category\")\n",
        "data[\"pclass\"] = data[\"pclass\"].astype(\"category\")"
      ]
    },
    {
      "cell_type": "markdown",
      "metadata": {
        "id": "dWZaVQtdS9id"
      },
      "source": [
        "**Concatenate rows into a new Dataframe.**"
      ]
    },
    {
      "cell_type": "code",
      "execution_count": null,
      "metadata": {
        "colab": {
          "base_uri": "https://localhost:8080/",
          "height": 363
        },
        "id": "zncT2wVkUsyo",
        "outputId": "18891e02-0bf2-4e7f-e909-ea36d0f2ec8f"
      },
      "outputs": [],
      "source": [
        "data1 = data.head()\n",
        "data2 = data.tail()\n",
        "conc_data_row = pd.concat([data1, data2], axis=0, ignore_index=True)\n",
        "conc_data_row"
      ]
    },
    {
      "cell_type": "markdown",
      "metadata": {
        "id": "dRi2at_iS9ie"
      },
      "source": [
        "**Concatenate columns into a new Dataframe.**"
      ]
    },
    {
      "cell_type": "code",
      "execution_count": null,
      "metadata": {
        "colab": {
          "base_uri": "https://localhost:8080/",
          "height": 206
        },
        "id": "f9PxoLvAUsyo",
        "outputId": "c2dd396e-f53d-49ad-8fba-fdfe831abf82"
      },
      "outputs": [],
      "source": [
        "data1 = data[\"age\"]\n",
        "data2 = data[\"sex\"]\n",
        "conc_data_col = pd.concat([data1, data2], axis=1)\n",
        "conc_data_col"
      ]
    },
    {
      "cell_type": "markdown",
      "metadata": {
        "id": "6FgFmATmUsyo"
      },
      "source": [
        "## Indexing and filtering"
      ]
    },
    {
      "cell_type": "code",
      "execution_count": null,
      "metadata": {},
      "outputs": [],
      "source": [
        "# Selecting one column\n",
        "data[\"survived\"]\n",
        "# Or equivalently\n",
        "data.survived"
      ]
    },
    {
      "cell_type": "code",
      "execution_count": null,
      "metadata": {},
      "outputs": [],
      "source": [
        "# Selecting two columns\n",
        "data[[\"survived\", \"pclass\"]]"
      ]
    },
    {
      "cell_type": "markdown",
      "metadata": {
        "id": "EvQEegPQS9ie"
      },
      "source": [
        "**Select 10 first rows of a chosen column.**"
      ]
    },
    {
      "cell_type": "code",
      "execution_count": null,
      "metadata": {
        "colab": {
          "base_uri": "https://localhost:8080/"
        },
        "id": "QTfW3PZOUsyo",
        "outputId": "8691d736-dceb-4864-9157-6023c3046251"
      },
      "outputs": [],
      "source": [
        "# Using square brackets\n",
        "data[\"age\"][0:9]\n",
        "# Using loc accessor (preferred)\n",
        "data.loc[0:9, \"survived\"]"
      ]
    },
    {
      "cell_type": "code",
      "execution_count": null,
      "metadata": {
        "colab": {
          "base_uri": "https://localhost:8080/",
          "height": 363
        },
        "id": "NOpmnR9-Usyp",
        "outputId": "4c6a66b9-982b-4bf5-acd5-59dfbac339a6"
      },
      "outputs": [],
      "source": [
        "data.loc[0:9, [\"age\", \"sex\"]]"
      ]
    },
    {
      "cell_type": "code",
      "execution_count": null,
      "metadata": {
        "colab": {
          "base_uri": "https://localhost:8080/",
          "height": 363
        },
        "id": "Tct4B3kLUsyp",
        "outputId": "f4f0b8ee-8b6f-47fa-95c5-98add4519d87"
      },
      "outputs": [],
      "source": [
        "# Using row and column indices.\n",
        "data.iloc[0:10, 0:2]"
      ]
    },
    {
      "cell_type": "markdown",
      "metadata": {
        "id": "geChMobjS9ie"
      },
      "source": [
        "**Filter a Dataframe based on a condition**"
      ]
    },
    {
      "cell_type": "code",
      "execution_count": null,
      "metadata": {
        "colab": {
          "base_uri": "https://localhost:8080/",
          "height": 237
        },
        "id": "VYLCXp86Usyp",
        "outputId": "e8f29b82-a61c-49e4-a029-1fc81d97879e"
      },
      "outputs": [],
      "source": [
        "# Creating boolean series\n",
        "mask = data.age > 70\n",
        "data[mask]\n",
        "data[data.age > 70]"
      ]
    },
    {
      "cell_type": "code",
      "execution_count": null,
      "metadata": {
        "colab": {
          "base_uri": "https://localhost:8080/",
          "height": 112
        },
        "id": "oJvuaRLRUsyp",
        "outputId": "853dc58b-aff5-4f39-88f8-db50e66f9bca"
      },
      "outputs": [],
      "source": [
        "first_mask = data.age > 70\n",
        "second_mask = data.survived == 1\n",
        "data[first_mask & second_mask]\n",
        "\n",
        "#Note that you must use '&', '|' instead of 'and', 'or' when filtering a Dataframe."
      ]
    },
    {
      "cell_type": "markdown",
      "metadata": {
        "id": "AdGKKQVkS9if"
      },
      "source": [
        "**Apply a function to each row of a Dataframe.**"
      ]
    },
    {
      "cell_type": "code",
      "execution_count": null,
      "metadata": {
        "colab": {
          "base_uri": "https://localhost:8080/"
        },
        "id": "-LFVY3UQUsyq",
        "outputId": "73b9ef13-486b-4a74-eca6-4cbcc55e7b95"
      },
      "outputs": [],
      "source": [
        "def div(n):\n",
        "    return n / 2\n",
        "\n",
        "data.age.apply(div)"
      ]
    },
    {
      "cell_type": "code",
      "execution_count": null,
      "metadata": {
        "colab": {
          "base_uri": "https://localhost:8080/"
        },
        "id": "U1MkbDzoUsyq",
        "outputId": "f62302aa-fd1b-4cb6-8093-6e69099ffe3b"
      },
      "outputs": [],
      "source": [
        "data.age.apply(lambda n: n / 2)"
      ]
    },
    {
      "cell_type": "markdown",
      "metadata": {
        "id": "i3a8lrhqUsyq"
      },
      "source": [
        "# Data visualization and summaries"
      ]
    },
    {
      "cell_type": "markdown",
      "metadata": {
        "id": "lmuRAaD9S9if"
      },
      "source": [
        "**Create a histogram of a chosen variable with a given size in inches.**"
      ]
    },
    {
      "cell_type": "code",
      "execution_count": null,
      "metadata": {
        "colab": {
          "base_uri": "https://localhost:8080/",
          "height": 466
        },
        "id": "6qpmbeI5Usyq",
        "outputId": "395e220a-76b1-4638-b131-7000fb9cab24"
      },
      "outputs": [],
      "source": [
        "plt.figure(figsize=(6, 3))\n",
        "sns.histplot(x='age', data=data);"
      ]
    },
    {
      "cell_type": "markdown",
      "metadata": {
        "id": "swS7ZIxmS9if"
      },
      "source": [
        "**Create a barplot for a chosen categorical variable.**"
      ]
    },
    {
      "cell_type": "code",
      "execution_count": null,
      "metadata": {
        "colab": {
          "base_uri": "https://localhost:8080/",
          "height": 466
        },
        "id": "QY_irGgrUsyq",
        "outputId": "36ea1696-94b5-4064-e9ad-880eac74ddd5"
      },
      "outputs": [],
      "source": [
        "sns.countplot(x='pclass', data=data);"
      ]
    },
    {
      "cell_type": "markdown",
      "metadata": {
        "id": "n8Xhf_uFS9if"
      },
      "source": [
        "**Create a barplot a of chosen variable, but first group observations according to a second variable. The barplots appear on the same figure.**"
      ]
    },
    {
      "cell_type": "code",
      "execution_count": null,
      "metadata": {
        "colab": {
          "base_uri": "https://localhost:8080/",
          "height": 466
        },
        "id": "V3H979qBS9if",
        "outputId": "16315668-a3ed-409c-92b5-5167e114b130"
      },
      "outputs": [],
      "source": [
        "sns.countplot(x=\"pclass\", hue=\"survived\", data=data);"
      ]
    },
    {
      "cell_type": "markdown",
      "metadata": {
        "id": "c_rm-vhsUsyj"
      },
      "source": [
        "# Pandas Series and DataFrame\n",
        "\n",
        "It is important to distinguish Pandas Series and DataFrame types:\n",
        "- https://pandas.pydata.org/pandas-docs/stable/reference/api/pandas.Series.html\n",
        "- https://pandas.pydata.org/pandas-docs/stable/reference/api/pandas.DataFrame.html\n"
      ]
    },
    {
      "cell_type": "code",
      "execution_count": null,
      "metadata": {
        "colab": {
          "base_uri": "https://localhost:8080/"
        },
        "id": "x5i5MwoqUsyj",
        "outputId": "d6d82737-2e41-4afa-9d02-e5b092ad65f6"
      },
      "outputs": [],
      "source": [
        "print(type(raw_data[\"age\"]))"
      ]
    },
    {
      "cell_type": "code",
      "execution_count": null,
      "metadata": {
        "colab": {
          "base_uri": "https://localhost:8080/"
        },
        "id": "uruzgJUgUsyk",
        "outputId": "5f68da74-9246-4080-88da-fb93d4ba0a46"
      },
      "outputs": [],
      "source": [
        "print(type(raw_data[[\"age\"]]))"
      ]
    },
    {
      "cell_type": "code",
      "execution_count": null,
      "metadata": {
        "colab": {
          "base_uri": "https://localhost:8080/"
        },
        "id": "9pYIAHnuUsyk",
        "outputId": "de6e614b-153a-4d67-fd1f-7c25703edf1a"
      },
      "outputs": [],
      "source": [
        "print(type(raw_data[[\"age\", \"sex\"]]))"
      ]
    },
    {
      "cell_type": "code",
      "execution_count": null,
      "metadata": {
        "colab": {
          "base_uri": "https://localhost:8080/"
        },
        "id": "ZK6IcpkUUsyk",
        "outputId": "2350e517-4acf-4d1a-a56c-601804723c50"
      },
      "outputs": [],
      "source": [
        "raw_data.index"
      ]
    },
    {
      "cell_type": "markdown",
      "metadata": {
        "id": "dZU5iNHTS9ig"
      },
      "source": [
        "**Create a barplot of a chosen variable, but first group observations according to a second variable.**"
      ]
    },
    {
      "cell_type": "code",
      "execution_count": null,
      "metadata": {
        "colab": {
          "base_uri": "https://localhost:8080/",
          "height": 424
        },
        "id": "p3iaAzSFS9ig",
        "outputId": "e9661a1f-1b08-4530-f180-1f895859ce99"
      },
      "outputs": [],
      "source": [
        "sns.catplot(x=\"pclass\", col=\"survived\", data=data, kind=\"count\", height=3, aspect=0.7);"
      ]
    },
    {
      "cell_type": "markdown",
      "metadata": {
        "id": "XZjpnxHOS9ig"
      },
      "source": [
        "**Create a scatterplot between two continuous variables.**"
      ]
    },
    {
      "cell_type": "code",
      "execution_count": null,
      "metadata": {
        "colab": {
          "base_uri": "https://localhost:8080/",
          "height": 466
        },
        "id": "B_NioCjvUsyq",
        "outputId": "2ffed79b-2439-40af-aad5-da0766f25133"
      },
      "outputs": [],
      "source": [
        "sns.scatterplot(x='age', y='fare', data=raw_data);"
      ]
    },
    {
      "cell_type": "markdown",
      "metadata": {
        "id": "QZuU3q9ES9ig"
      },
      "source": [
        "**Create a boxplot of a continuous variable.**"
      ]
    },
    {
      "cell_type": "code",
      "execution_count": null,
      "metadata": {
        "colab": {
          "base_uri": "https://localhost:8080/",
          "height": 466
        },
        "id": "6SImCTe2Usyq",
        "outputId": "a375c38a-e8e6-4860-c3f6-097030a6dd93"
      },
      "outputs": [],
      "source": [
        "sns.boxplot(x='sex', y='age', data=data);"
      ]
    },
    {
      "cell_type": "markdown",
      "metadata": {
        "id": "C62iv1NfS9ig"
      },
      "source": [
        "**Create a density plot of a chosen continuous variable.**"
      ]
    },
    {
      "cell_type": "code",
      "execution_count": null,
      "metadata": {
        "colab": {
          "base_uri": "https://localhost:8080/",
          "height": 523
        },
        "id": "WsLtYO0wS9ig",
        "outputId": "270fe131-4ab4-487f-91ac-4413efa89b67"
      },
      "outputs": [],
      "source": [
        "sns.displot(x='age', color='red', kind='kde', data=data);"
      ]
    },
    {
      "cell_type": "code",
      "execution_count": null,
      "metadata": {
        "colab": {
          "base_uri": "https://localhost:8080/",
          "height": 523
        },
        "id": "nAu94cuYS9ig",
        "outputId": "91111298-afe7-4d80-f886-a4984f9f0dd6"
      },
      "outputs": [],
      "source": [
        "sns.displot(x='age', color='red', data=data, kde=True);"
      ]
    },
    {
      "cell_type": "markdown",
      "metadata": {
        "id": "wzYYw-OlS9ig"
      },
      "source": [
        "**Group observations according to a criterion, and compute their mean.**"
      ]
    },
    {
      "cell_type": "code",
      "execution_count": null,
      "metadata": {
        "colab": {
          "base_uri": "https://localhost:8080/",
          "height": 178
        },
        "id": "KfpXrU_FUsyr",
        "outputId": "4a58acf9-d4c1-4659-a44f-7a18aa7e048b"
      },
      "outputs": [],
      "source": [
        "data.groupby([\"sex\"])[['survived', 'age']].mean()"
      ]
    },
    {
      "cell_type": "code",
      "execution_count": null,
      "metadata": {
        "colab": {
          "base_uri": "https://localhost:8080/",
          "height": 269
        },
        "id": "bNXVsiJ-Usyr",
        "outputId": "62d336ff-39bf-4f2e-a56e-24c6c7cc755a"
      },
      "outputs": [],
      "source": [
        "data.groupby([\"sex\", \"pclass\"])[['survived', 'age']].mean()"
      ]
    },
    {
      "cell_type": "markdown",
      "metadata": {
        "id": "NF8omnaTS9ih"
      },
      "source": [
        "**Map values of a column.**"
      ]
    },
    {
      "cell_type": "code",
      "execution_count": null,
      "metadata": {
        "colab": {
          "base_uri": "https://localhost:8080/",
          "height": 206
        },
        "id": "KN0Zes91Usyr",
        "outputId": "1337d55c-4737-4c72-aed3-3c27157729a5"
      },
      "outputs": [],
      "source": [
        "def category_ages(age):\n",
        "    if age <= 20:\n",
        "        return \"<20 ans\"\n",
        "    elif (age > 20) & (age <= 30):\n",
        "        return \"20-30 ans\"\n",
        "    elif (age > 30) & (age <= 40):\n",
        "        return \"30-40 ans\"\n",
        "    else:\n",
        "        return \"+40 ans\"\n",
        "\n",
        "\n",
        "data[\"cat_ages\"] = data[\"age\"].map(category_ages)\n",
        "data.head()"
      ]
    },
    {
      "cell_type": "markdown",
      "metadata": {
        "id": "Q0Bpe19dS9ih"
      },
      "source": [
        "**Create a column for the size of the family.**"
      ]
    },
    {
      "cell_type": "code",
      "execution_count": null,
      "metadata": {
        "colab": {
          "base_uri": "https://localhost:8080/",
          "height": 363
        },
        "id": "IAy5zFm7Usys",
        "outputId": "64979ba6-3bac-4dc1-cd54-304f6c4b7a55"
      },
      "outputs": [],
      "source": [
        "raw_data[\"familysize\"] = raw_data[\"sibsp\"] + raw_data[\"parch\"] + 1\n",
        "raw_data.head(10)"
      ]
    },
    {
      "cell_type": "code",
      "execution_count": null,
      "metadata": {
        "colab": {
          "base_uri": "https://localhost:8080/",
          "height": 449
        },
        "id": "4JsynqhvUsys",
        "outputId": "3e43607d-42fb-43b4-bba4-83e99ff1e787"
      },
      "outputs": [],
      "source": [
        "sns.countplot(x=\"familysize\", hue=\"survived\", data=raw_data);"
      ]
    },
    {
      "cell_type": "code",
      "execution_count": null,
      "metadata": {},
      "outputs": [],
      "source": []
    }
  ],
  "metadata": {
    "colab": {
      "provenance": []
    },
    "kernelspec": {
      "display_name": "base",
      "language": "python",
      "name": "python3"
    },
    "language_info": {
      "codemirror_mode": {
        "name": "ipython",
        "version": 3
      },
      "file_extension": ".py",
      "mimetype": "text/x-python",
      "name": "python",
      "nbconvert_exporter": "python",
      "pygments_lexer": "ipython3",
      "version": "3.9.12"
    },
    "vscode": {
      "interpreter": {
        "hash": "bfe0e2b9b67a2fcef00021a1d2a516837bff30cf713e434b27f739f4afd30381"
      }
    }
  },
  "nbformat": 4,
  "nbformat_minor": 0
}
