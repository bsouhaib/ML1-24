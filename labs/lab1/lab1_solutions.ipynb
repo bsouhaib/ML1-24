{
 "cells": [
  {
   "attachments": {},
   "cell_type": "markdown",
   "metadata": {
    "id": "dzNng6vCL9eP"
   },
   "source": [
    "# Machine Learning 2023-2024 - UMONS \n",
    "# Exploratory Data Analysis of the Pokemon dataset\n"
   ]
  },
  {
   "attachments": {},
   "cell_type": "markdown",
   "metadata": {},
   "source": [
    "The goal of the lab is to get more familiar with the pandas library in Python, which will allow you to manipulate dataframes, compute the statistics of its variables, and visualize them. Data exploration is an important step before using any of the Machine Learning model that you'll discover through the course. It will grant you a deeper understanding of the content of the dataset, which will ease any a posteriori manipulation.   \n",
    "\n",
    "In this lab, we'll work with the 'Pokemon' dataset, which contains the attributes of several Pokemon across various generations:\n",
    "- `#`: ID for each pokemon\n",
    "- `Name`: name of each pokemon\n",
    "- `Type 1`: each pokemon has a type, this determines weakness/resistance to attacks\n",
    "- `Type 2`: second type for pokemons that are dual type\n",
    "- `Total`: sum of all stats that come after this, a general guide to how strong a pokemon is\n",
    "- `HP`: hit points, or health, defines how much damage a pokemon can withstand before fainting\n",
    "- `Attack`: the base modifier for normal attacks (eg. Scratch, Punch)\n",
    "- `Defense`: the base damage resistance against normal attacks\n",
    "- `SP Atk`: special attack, the base modifier for special attacks (e.g. fire blast, bubble beam)\n",
    "- `SP Def`: the base damage resistance against special attacks\n",
    "- `Speed`: determines which pokemon attacks first each round"
   ]
  },
  {
   "attachments": {},
   "cell_type": "markdown",
   "metadata": {},
   "source": [
    "**1. Import all necessary libraries**"
   ]
  },
  {
   "cell_type": "code",
   "execution_count": null,
   "metadata": {
    "id": "dU4S-rek_gQe"
   },
   "outputs": [],
   "source": [
    "import matplotlib.pyplot as plt\n",
    "import numpy as np\n",
    "import pandas as pd\n",
    "import seaborn as sns\n",
    "\n",
    "plt.style.use('fivethirtyeight') # Custom plot style"
   ]
  },
  {
   "attachments": {},
   "cell_type": "markdown",
   "metadata": {},
   "source": [
    "**2. Read the csv file 'Pokemon.csv' and load it into a Dataframe. Print the 10 first rows.** "
   ]
  },
  {
   "cell_type": "code",
   "execution_count": null,
   "metadata": {
    "colab": {
     "base_uri": "https://localhost:8080/",
     "height": 363
    },
    "id": "hsFUdKmC_gQf",
    "outputId": "05723cd3-5387-44f9-d7ae-c10b97d3491d"
   },
   "outputs": [],
   "source": [
    "df = pd.read_csv('https://raw.githubusercontent.com/bsouhaib/ML1-24/main/labs/lab1/data/Pokemon.csv')\n",
    "df.head(n=10)"
   ]
  },
  {
   "attachments": {},
   "cell_type": "markdown",
   "metadata": {
    "id": "eLriTZtKBDTP"
   },
   "source": [
    "**3. Print technical informations of the Pokemon dataset using `.info()`.** "
   ]
  },
  {
   "cell_type": "code",
   "execution_count": null,
   "metadata": {
    "colab": {
     "base_uri": "https://localhost:8080/"
    },
    "id": "yv1vhgCkAepn",
    "outputId": "50fb7dfd-8b26-4566-cd2d-723730fc1cf3"
   },
   "outputs": [],
   "source": [
    "df.info()"
   ]
  },
  {
   "attachments": {},
   "cell_type": "markdown",
   "metadata": {
    "id": "s1pHx3oR6w5G"
   },
   "source": [
    "**4. Print the shape of the dataframe.** "
   ]
  },
  {
   "cell_type": "code",
   "execution_count": null,
   "metadata": {
    "colab": {
     "base_uri": "https://localhost:8080/"
    },
    "id": "XVRlqBq2_gQh",
    "outputId": "85424ccb-868e-4f46-b4f7-f762a5a73c13"
   },
   "outputs": [],
   "source": [
    "df.shape"
   ]
  },
  {
   "attachments": {},
   "cell_type": "markdown",
   "metadata": {
    "id": "VuqDhanYR0v4"
   },
   "source": [
    "**5. Drop the \"#' column and set the dataframe index to the 'Name' column.**"
   ]
  },
  {
   "cell_type": "code",
   "execution_count": null,
   "metadata": {
    "colab": {
     "base_uri": "https://localhost:8080/",
     "height": 238
    },
    "id": "nr5scIgK_gQi",
    "outputId": "ad876841-fc3f-430d-f3a7-6c2a11eff76c"
   },
   "outputs": [],
   "source": [
    "df = df.drop(columns=['#'])  # drop the '#' column.\n",
    "df = df.set_index('Name')  # Set 'Name' as index.\n",
    "df.head()"
   ]
  },
  {
   "attachments": {},
   "cell_type": "markdown",
   "metadata": {
    "id": "DmeOC9UQaEo1"
   },
   "source": [
    "**6. Check if there are any missing values in the dataframe, and count them per column. For non numerical variables, replace the missing values by 'Unknown'. Check that the dataframe does not contain missing values anymore.**"
   ]
  },
  {
   "cell_type": "code",
   "execution_count": null,
   "metadata": {
    "colab": {
     "base_uri": "https://localhost:8080/"
    },
    "id": "8V7lioYdaNf9",
    "outputId": "58b810aa-a87a-4209-e3c7-03eb3360e3ce"
   },
   "outputs": [],
   "source": [
    "# Count missing values\n",
    "df.isna().sum()"
   ]
  },
  {
   "cell_type": "code",
   "execution_count": null,
   "metadata": {
    "colab": {
     "base_uri": "https://localhost:8080/"
    },
    "id": "1N41x3Lu8nAR",
    "outputId": "8269f452-2535-413c-c0a3-99b4a15d2718"
   },
   "outputs": [],
   "source": [
    "# Replace missing values for the categorical variable 'Type 2' with 'Unknown'.\n",
    "df['Type 2'] = df['Type 2'].fillna('Unknown')\n",
    "\n",
    "# Check that the dataframe does not contain any more missing values.\n",
    "assert df.notna().all().all() # First all is for rows, second all is for columns.\n",
    "df.isna().sum()"
   ]
  },
  {
   "attachments": {},
   "cell_type": "markdown",
   "metadata": {
    "id": "hJiIx80ZFODG"
   },
   "source": [
    "**7. Change the data types of the variables 'Type 1' and 'Type 2' and 'Generation' to categorical data**"
   ]
  },
  {
   "cell_type": "code",
   "execution_count": null,
   "metadata": {
    "colab": {
     "base_uri": "https://localhost:8080/"
    },
    "id": "N3QXeTJOEWp6",
    "outputId": "259240ad-95d5-485c-f110-6d9a061dde5f"
   },
   "outputs": [],
   "source": [
    "df = df.astype({'Type 1': 'category', 'Type 2': 'category', 'Generation': 'category'})\n",
    "df.dtypes"
   ]
  },
  {
   "attachments": {},
   "cell_type": "markdown",
   "metadata": {
    "id": "sfk3xosFZr3p"
   },
   "source": [
    "**8. Get general statistics (mean, standard deviation, ...) for the numerical variables of the dataset.** "
   ]
  },
  {
   "cell_type": "code",
   "execution_count": null,
   "metadata": {
    "colab": {
     "base_uri": "https://localhost:8080/",
     "height": 300
    },
    "id": "ovW_8SlcZ1Q6",
    "outputId": "aa1d60e7-2fb7-48c8-87ef-324b8f4ca775"
   },
   "outputs": [],
   "source": [
    "with pd.option_context('display.precision', 1): # We only display one decimal place\n",
    "    display(df.describe())\n",
    " \n",
    "np.sqrt((df['HP']**2).mean() - df['HP'].mean()**2)"
   ]
  },
  {
   "attachments": {},
   "cell_type": "markdown",
   "metadata": {
    "id": "wTEEsbxsatcg"
   },
   "source": [
    "**9. For the categorical variables, count the number of values per category, as well as the count of co-occurences, i.e. the times categorical variables occur simultaneously.**"
   ]
  },
  {
   "cell_type": "code",
   "execution_count": null,
   "metadata": {
    "colab": {
     "base_uri": "https://localhost:8080/"
    },
    "id": "tLqsNREPa9rP",
    "outputId": "d792c370-2bde-4a63-ee65-99f8a55d7de6"
   },
   "outputs": [],
   "source": [
    "df['Type 1'].value_counts()"
   ]
  },
  {
   "cell_type": "code",
   "execution_count": null,
   "metadata": {},
   "outputs": [],
   "source": [
    "df['Type 2'].value_counts()"
   ]
  },
  {
   "cell_type": "code",
   "execution_count": null,
   "metadata": {},
   "outputs": [],
   "source": [
    "df['Generation'].value_counts()"
   ]
  },
  {
   "cell_type": "code",
   "execution_count": null,
   "metadata": {},
   "outputs": [],
   "source": [
    "df[['Type 1', 'Type 2', 'Generation']].value_counts()"
   ]
  },
  {
   "attachments": {},
   "cell_type": "markdown",
   "metadata": {},
   "source": [
    "**10. Get all the attributes of 'Bulbasaur'**"
   ]
  },
  {
   "cell_type": "code",
   "execution_count": null,
   "metadata": {
    "colab": {
     "base_uri": "https://localhost:8080/"
    },
    "id": "IHcc1OnP_gQj",
    "outputId": "5d5ec6ae-13e6-4270-82a5-f0035fc3a005"
   },
   "outputs": [],
   "source": [
    "df.loc['Bulbasaur']"
   ]
  },
  {
   "attachments": {},
   "cell_type": "markdown",
   "metadata": {
    "id": "rnP-WJCAueWI"
   },
   "source": [
    "**11. Sort the dataframe by increasing values of 'Attack' and decreasing values of 'Defense' (i.e. if two Pokemons have the same value for 'Attack', the one with higher 'Defense' should appear first).** "
   ]
  },
  {
   "cell_type": "code",
   "execution_count": null,
   "metadata": {
    "colab": {
     "base_uri": "https://localhost:8080/",
     "height": 238
    },
    "id": "21AqqLSNulmH",
    "outputId": "e15ed048-91d4-40b2-ec71-0b2a32b3afdf"
   },
   "outputs": [],
   "source": [
    "df = df.sort_values(by=['Attack', 'Defense'], ascending=[True, False])\n",
    "df.head()"
   ]
  },
  {
   "attachments": {},
   "cell_type": "markdown",
   "metadata": {
    "id": "qxOAc1B_mDUr"
   },
   "source": [
    "**12. Create a dataframe containing all Pokemons of type 1 'Psychic' having more than 100 in 'Attack', less than 40 in 'Defense' and more than 45 in Speed.**"
   ]
  },
  {
   "cell_type": "code",
   "execution_count": null,
   "metadata": {
    "colab": {
     "base_uri": "https://localhost:8080/",
     "height": 238
    },
    "id": "vOT7IlvPmk9L",
    "outputId": "07df5887-1887-4931-8934-c4c0a29a90e0"
   },
   "outputs": [],
   "source": [
    "sub_df = df[\n",
    "    (df['Type 1'] == 'Psychic') \n",
    "    & (df['Attack'] > 100) \n",
    "    & (df['Defense'] < 40) \n",
    "    & (df['Speed'] > 45)\n",
    "]\n",
    "sub_df.head()"
   ]
  },
  {
   "attachments": {},
   "cell_type": "markdown",
   "metadata": {
    "id": "OI07YycPoP9u"
   },
   "source": [
    "**13. Create two new columns, 'AttackAll' and 'DefenseAll', which correspond to the sum of 'Attack' and 'Sp. Attack' and the sum of 'Defense' and 'Sp. Defense', respectively.** "
   ]
  },
  {
   "cell_type": "code",
   "execution_count": null,
   "metadata": {
    "colab": {
     "base_uri": "https://localhost:8080/",
     "height": 238
    },
    "id": "6Mur9aCQp0o9",
    "outputId": "a5aa4596-07be-4a3a-d1d2-3f5b1f0f07ce"
   },
   "outputs": [],
   "source": [
    "df['AttackAll'] = df['Attack'] + df['Sp. Atk']\n",
    "df['DefenseAll'] = df['Defense'] + df['Sp. Def']\n",
    "df.head()"
   ]
  },
  {
   "attachments": {},
   "cell_type": "markdown",
   "metadata": {
    "id": "ZCNx4IaIq3o-"
   },
   "source": [
    "**14. Create a new column 'AtkOverDef' corresponding to the ratio of 'AttackAll' over 'DefenseAll' for each Pokemon.** "
   ]
  },
  {
   "cell_type": "code",
   "execution_count": null,
   "metadata": {
    "colab": {
     "base_uri": "https://localhost:8080/",
     "height": 238
    },
    "id": "Gp9fpMMIsD_n",
    "outputId": "4f7ed15f-769d-46ab-8c37-98652e29f3b0"
   },
   "outputs": [],
   "source": [
    "df['AttkOverDef'] = df['AttackAll'] / df['DefenseAll']\n",
    "# Divisions by 0 are automatically mapped to 'inf'.\n",
    "df.head()"
   ]
  },
  {
   "attachments": {},
   "cell_type": "markdown",
   "metadata": {
    "id": "YJfaI8VKv64S"
   },
   "source": [
    "**15. Change the column names to upper cases, and remove the '.' in the column names, as well as blanks.** "
   ]
  },
  {
   "cell_type": "code",
   "execution_count": null,
   "metadata": {
    "colab": {
     "base_uri": "https://localhost:8080/",
     "height": 292
    },
    "id": "I89576fk_gQk",
    "outputId": "a5460673-406d-47d8-e376-e1e6d3220c77"
   },
   "outputs": [],
   "source": [
    "# change into upper case\n",
    "df.columns = df.columns.str.upper().str.replace('.', '', regex=False).str.replace(' ', '')  \n",
    "df.head()"
   ]
  },
  {
   "attachments": {},
   "cell_type": "markdown",
   "metadata": {
    "id": "oemote1Dwiil"
   },
   "source": [
    "**16. Plot an histogram of the different 'TYPE1' categories. The figure must be 16 inch wide and 4 inch high. \n",
    "Use the matplotlib.pyplot library and the countplot method from the seaborn librabry. The counts should appear in increasing order.**"
   ]
  },
  {
   "cell_type": "code",
   "execution_count": null,
   "metadata": {
    "colab": {
     "base_uri": "https://localhost:8080/",
     "height": 304
    },
    "id": "Ykf0mI1J_gQk",
    "outputId": "4da7416a-c3de-49d2-db86-95a03e3df593"
   },
   "outputs": [],
   "source": [
    "plt.figure(figsize=(16, 4))\n",
    "sns.countplot(x='TYPE1', data=df, order=df.TYPE1.value_counts().index);"
   ]
  },
  {
   "attachments": {},
   "cell_type": "markdown",
   "metadata": {
    "id": "Sd7rlq5RxgNa"
   },
   "source": [
    "**17. Do the same as above, but for the 'TYPE2' categories.** "
   ]
  },
  {
   "cell_type": "code",
   "execution_count": null,
   "metadata": {
    "colab": {
     "base_uri": "https://localhost:8080/",
     "height": 306
    },
    "id": "PcWnQOBh_gQk",
    "outputId": "4928077c-9051-42db-e2a2-8dc86e96f21e"
   },
   "outputs": [],
   "source": [
    "plt.figure(figsize=(16, 4))\n",
    "sns.countplot(x='TYPE2', data=df, order=df.TYPE2.value_counts().index);"
   ]
  },
  {
   "attachments": {},
   "cell_type": "markdown",
   "metadata": {
    "id": "HJQnPxOy0Cr0"
   },
   "source": [
    "**18. Plot the densities of the variables 'ATTACK', 'DEFENSE' and 'SPEED' onto three separates plots. Use the displot method of the library seaborn.**"
   ]
  },
  {
   "cell_type": "code",
   "execution_count": null,
   "metadata": {
    "colab": {
     "base_uri": "https://localhost:8080/",
     "height": 1000
    },
    "id": "57Gmsp9x_gQm",
    "outputId": "38abfdbf-81ea-43be-b7ba-56735d7f002b"
   },
   "outputs": [],
   "source": [
    "for x in ['ATTACK', 'DEFENSE', 'SPEED']:\n",
    "    sns.displot(x=x, kind='kde', data=df, height=3, aspect=2)\n",
    "    #sns.displot(x=x, kde=True, data=df, height=3, aspect=2) # alternative"
   ]
  },
  {
   "attachments": {},
   "cell_type": "markdown",
   "metadata": {
    "id": "8fZ4qb_N1QCH"
   },
   "source": [
    "**19. Plot the density of the variable 'ATTACK' for Legendary and non Legendary pokemons. The two densities should appear on different facets of the same plot.**"
   ]
  },
  {
   "cell_type": "code",
   "execution_count": null,
   "metadata": {
    "colab": {
     "base_uri": "https://localhost:8080/",
     "height": 378
    },
    "id": "BV6m-Z380uDl",
    "outputId": "c147bd2e-c7fa-4ba4-c593-a049f7064fa2"
   },
   "outputs": [],
   "source": [
    "sns.displot(data=df, x='ATTACK', kind='kde', col='LEGENDARY');"
   ]
  },
  {
   "attachments": {},
   "cell_type": "markdown",
   "metadata": {
    "id": "IwSqLytJ12_K"
   },
   "source": [
    "**20. Generate a scatter plot of the variable 'DEFENSE' on the y-axis, and the variable 'ATTACK' on the x-axis. Legendary and non-legendary Pokemons should be indicated using different colors.**"
   ]
  },
  {
   "cell_type": "code",
   "execution_count": null,
   "metadata": {
    "colab": {
     "base_uri": "https://localhost:8080/",
     "height": 1000
    },
    "id": "ubOms2Hk_gQm",
    "outputId": "d32debc7-e03e-4540-b384-071a02b6cceb"
   },
   "outputs": [],
   "source": [
    "sns.scatterplot(data=df, x='ATTACK', y='DEFENSE', hue='LEGENDARY');"
   ]
  },
  {
   "attachments": {},
   "cell_type": "markdown",
   "metadata": {},
   "source": [
    "**21. Filter the dataframe to contain only Pokemons of generations 1 and 4. Using the filtered dataframe, generate a scatter plot of the variable 'TOTAL' on the y-axis, and the variable 'ATTACK' on the x-axis, by separating the two filtered generations. Note that, after filtering the dataframe, you can use the method `Series.cat.remove_unused_categories` to remove unused categories from the plot. The figure shoud be 8 inches high, and 8 inches wide.**"
   ]
  },
  {
   "cell_type": "code",
   "execution_count": null,
   "metadata": {},
   "outputs": [],
   "source": [
    "df_filtered = df[(df.GENERATION == 1) | (df.GENERATION == 4)].copy()\n",
    "df_filtered.GENERATION = df_filtered.GENERATION.cat.remove_unused_categories()\n",
    "\n",
    "plt.figure(figsize=(8, 8))\n",
    "sns.scatterplot(x='ATTACK', y='TOTAL', data=df_filtered, hue='GENERATION');"
   ]
  },
  {
   "attachments": {},
   "cell_type": "markdown",
   "metadata": {
    "id": "Ufr2rxpd2xgh"
   },
   "source": [
    "**22. Create a histogram of the variable 'GENERATION'. Separate legendary and non-legendary Pokemons. The counts should appear on the same figure in decreasing order.**"
   ]
  },
  {
   "cell_type": "code",
   "execution_count": null,
   "metadata": {
    "colab": {
     "base_uri": "https://localhost:8080/",
     "height": 304
    },
    "id": "Qk7RrmFt_gQm",
    "outputId": "c905a67a-6c74-444c-95fe-474f3b639af2"
   },
   "outputs": [],
   "source": [
    "sns.countplot(x='GENERATION', data=df, order=df.GENERATION.value_counts().index, hue='LEGENDARY');"
   ]
  },
  {
   "attachments": {},
   "cell_type": "markdown",
   "metadata": {
    "id": "YszwDTeJ3HyN"
   },
   "source": [
    "**23. Generate a boxplot of the variable 'TOTAL' with the method boxplot from the library seaborn. How to interpret it?** "
   ]
  },
  {
   "cell_type": "code",
   "execution_count": null,
   "metadata": {
    "colab": {
     "base_uri": "https://localhost:8080/",
     "height": 283
    },
    "id": "lCREREg7_gQn",
    "outputId": "375ecf14-716f-40d3-8c13-1e1b319deb8b"
   },
   "outputs": [],
   "source": [
    "plt.figure(figsize=(1, 4))\n",
    "sns.boxplot(y='TOTAL', data=df);"
   ]
  },
  {
   "attachments": {},
   "cell_type": "markdown",
   "metadata": {},
   "source": [
    "The horizontal line within the box corresponds to the median of the variable 'TOTAL' (around 450). The extremities of the box correspond to the 25% quartile $Q_1=330$, and to the 75% quartile $Q_3=515$, i.e. 25% of all observations of the variable 'TOTAL' are below 330, while 75% of all observations are below 515. \n",
    "\n",
    "The 'T' lines correspond to the whiskers. The extremity of the upper whisker corresponds to the highest observation that is lower than $Q_3 + 1.5\\text{IQR}= 792.5$, while the extremity of the lower whisker corresponds to the lowest observation that is higher than $Q_1 - 1.5\\text{IQR}=52.5$, where $\\text{IQR} = Q_3 - Q_1=185$ is the inter-quartile range. Here the highest observation for the variable 'TOTAL' is 780, while the lowest observation is 180.  Any value above $Q_3 + 1.5\\text{IQR}$ or below $Q_1 - 1.5\\text{IQR}$ is called an *outlier*, and appears as a circle on the boxplot. In our case, we don't have outliers for the variable 'Total'."
   ]
  },
  {
   "cell_type": "code",
   "execution_count": null,
   "metadata": {},
   "outputs": [],
   "source": [
    "df.TOTAL.describe()"
   ]
  },
  {
   "attachments": {},
   "cell_type": "markdown",
   "metadata": {
    "id": "PZeGkhZu3Y8i"
   },
   "source": [
    "**24. Generate one boxplot of the variable 'TOTAL' per category of the variable 'GENERATION'. Separate legendary and non-legendary Pokemons. All boxplots must appear on the same plot.**"
   ]
  },
  {
   "cell_type": "code",
   "execution_count": null,
   "metadata": {
    "colab": {
     "base_uri": "https://localhost:8080/",
     "height": 323
    },
    "id": "_kQ2saC6_gQn",
    "outputId": "253874dc-2728-4c40-88a1-f4c58e984ebd"
   },
   "outputs": [],
   "source": [
    "plt.figure(figsize=(6, 6))\n",
    "sns.boxplot(x='LEGENDARY', y='TOTAL', data=df, hue='GENERATION');"
   ]
  }
 ],
 "metadata": {
  "colab": {
   "collapsed_sections": [],
   "name": "eda_pokemon_sol_22.ipynb",
   "provenance": []
  },
  "kernelspec": {
   "display_name": "base",
   "language": "python",
   "name": "python3"
  },
  "language_info": {
   "codemirror_mode": {
    "name": "ipython",
    "version": 3
   },
   "file_extension": ".py",
   "mimetype": "text/x-python",
   "name": "python",
   "nbconvert_exporter": "python",
   "pygments_lexer": "ipython3",
   "version": "3.9.12"
  },
  "vscode": {
   "interpreter": {
    "hash": "bfe0e2b9b67a2fcef00021a1d2a516837bff30cf713e434b27f739f4afd30381"
   }
  }
 },
 "nbformat": 4,
 "nbformat_minor": 0
}
