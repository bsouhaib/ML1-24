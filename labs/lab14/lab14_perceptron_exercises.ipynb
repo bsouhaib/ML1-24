{
 "cells": [
  {
   "attachments": {},
   "cell_type": "markdown",
   "metadata": {
    "id": "PkEJsSANEDZh"
   },
   "source": [
    "# Machine Learning 2023-2024 - UMONS"
   ]
  },
  {
   "attachments": {},
   "cell_type": "markdown",
   "metadata": {
    "id": "WhWNmV_TEDZi"
   },
   "source": [
    "## Perceptron"
   ]
  },
  {
   "attachments": {},
   "cell_type": "markdown",
   "metadata": {
    "id": "XM7gE5-rEDZj"
   },
   "source": [
    "Remember the definition of the perceptron binary classifier:\n",
    "$$\n",
    "h(x) = \\text{sign}(\\boldsymbol{w}^T \\boldsymbol{x})\n",
    "$$\n",
    "where $\\boldsymbol{w}$ is the weight vector and $\\boldsymbol{x}$ is the input vector.\n",
    "\n",
    "The perceptron learning algorithm finds the weight vector $\\boldsymbol{w}$ that separates the positive examples from the negative examples. The basic algorithm is as follows:\n",
    "1. Initialize $\\boldsymbol{w}$ randomly.\n",
    "2. For each example $(\\boldsymbol{x},y)$ in the training set:\n",
    "    - If $y(\\boldsymbol{w}^T \\boldsymbol{x}) \\leq 0$, update $\\boldsymbol{w} = \\boldsymbol{w} + y\\boldsymbol{x}$.\n",
    "    - Repeat until convergence.\n",
    "\n",
    "It is guaranteed to converge if the data is linearly separable.\n",
    "\n",
    "**The goal of this lab is to experiment with the perceptron learning algorithm using the functions `data_generator`, `perceptron`, and `plot_data` that are defined below.**"
   ]
  },
  {
   "cell_type": "code",
   "execution_count": 1,
   "metadata": {
    "id": "1SHrxUpJEDZj"
   },
   "outputs": [],
   "source": [
    "import matplotlib.pyplot as plt\n",
    "import numpy as np\n",
    "import pandas as pd\n",
    "from matplotlib.pyplot import cm"
   ]
  },
  {
   "cell_type": "code",
   "execution_count": 2,
   "metadata": {
    "id": "oLN5sq2eEDZj"
   },
   "outputs": [],
   "source": [
    "# Define a target function\n",
    "\n",
    "def target_function(x, w):\n",
    "    f = np.dot(w, x.T)\n",
    "    return f"
   ]
  },
  {
   "cell_type": "code",
   "execution_count": 3,
   "metadata": {
    "id": "H_JiBJ81EDZk"
   },
   "outputs": [],
   "source": [
    "# Define a data generator\n",
    "\n",
    "def data_generator(dimension, num_samples, seed=5):\n",
    "    np.random.seed(seed)\n",
    "\n",
    "    # randomly generate data from uniform distribution\n",
    "    if dimension == 2:\n",
    "        # if there are only 2 dimension add column names to plot the results\n",
    "        data_x = pd.DataFrame(\n",
    "            np.random.uniform(-100, 100, (num_samples, dimension)), columns=[\"x_1\", \"x_2\"]\n",
    "        )\n",
    "    else:\n",
    "        # if dimensions are greater than 2 then it is not possible to visualize\n",
    "        data_x = pd.DataFrame(np.random.uniform(-100, 100, (num_samples, dimension)))\n",
    "    data_x.insert(0, \"x_0\", np.ones(num_samples))\n",
    "\n",
    "    # randomly select weights\n",
    "    weights = np.random.uniform(-1, 1, (1, dimension + 1))\n",
    "\n",
    "    # generate the data labels\n",
    "    f = target_function(data_x, weights)\n",
    "    data_y = np.sign(f)[0]\n",
    "\n",
    "    # dataframe consisting of data and labels\n",
    "    data_df = pd.concat([data_x, pd.DataFrame(data_y, columns=['y'])], axis=1)\n",
    "\n",
    "    return data_df, data_x, data_y, weights"
   ]
  },
  {
   "cell_type": "code",
   "execution_count": 4,
   "metadata": {
    "id": "VvpKJJowEDZk"
   },
   "outputs": [],
   "source": [
    "# Function to plot decision boundary\n",
    "\n",
    "def plot_line(slope, intercept, label, color):\n",
    "    axes = plt.gca()\n",
    "    x_vals = np.array(axes.get_xlim())\n",
    "    y_vals = intercept + (slope * x_vals)\n",
    "    plt.plot(x_vals, y_vals, label=label, c=color)\n",
    "    plt.legend()"
   ]
  },
  {
   "cell_type": "code",
   "execution_count": 5,
   "metadata": {
    "id": "iT_GUfA0EDZk"
   },
   "outputs": [],
   "source": [
    "# Function to plot the data\n",
    "\n",
    "def plot_data(data, weights):\n",
    "    data_groups = data.groupby('y')\n",
    "    for name, group in data_groups:\n",
    "        plt.plot(group.x_1, group.x_2, marker='o', linestyle='', markersize=7, label=name)\n",
    "\n",
    "    plt.legend()\n",
    "    plot_line(-weights[0, 1] / weights[0, 2], -weights[0, 0] / weights[0, 2], label=\"f\", color=\"red\")\n",
    "    plt.xlabel(\"x_1\")\n",
    "    plt.ylabel(\"x_2\")\n",
    "    plt.show()"
   ]
  },
  {
   "cell_type": "code",
   "execution_count": 6,
   "metadata": {
    "id": "Z1jyH0VCEDZk"
   },
   "outputs": [],
   "source": [
    "# Perceptron function to train on the data\n",
    "\n",
    "def perceptron(x, y, method=\"deterministic\"):\n",
    "    x_arr = np.array(x)\n",
    "    y_arr = np.array(y)\n",
    "    weight_arr = np.random.uniform(-1, 1, x_arr.shape[1])\n",
    "\n",
    "    # find misclassified samples\n",
    "    y_pred = np.sign(target_function(x_arr, weight_arr))\n",
    "\n",
    "    n_iter = 0\n",
    "    weights_hist = [weight_arr.copy()]\n",
    "    while np.any(y_pred != y_arr):\n",
    "        # get misclassified samples\n",
    "        mis_ind = np.where(y_pred != y_arr)[0]\n",
    "\n",
    "        if method == \"deterministic\":\n",
    "            index = mis_ind[0]\n",
    "        else:\n",
    "            index = np.random.choice(mis_ind)\n",
    "\n",
    "        x_mis = x_arr[index]\n",
    "        y_mis = y_arr[index]\n",
    "\n",
    "        # update weights\n",
    "        weight_arr += y_mis * x_mis\n",
    "        weights_hist.append(weight_arr.copy())\n",
    "        # find misclassified samples\n",
    "        y_pred = np.sign(target_function(x_arr, weight_arr))\n",
    "        # update number of iterations\n",
    "        n_iter += 1\n",
    "    return weight_arr, n_iter, weights_hist"
   ]
  },
  {
   "cell_type": "code",
   "execution_count": 7,
   "metadata": {
    "id": "52ug3OpdEDZl"
   },
   "outputs": [],
   "source": [
    "# Function to plot results\n",
    "\n",
    "def plot_results(data, orig_weights, appr_weights, hist_weights, n_iter):\n",
    "    data_groups = data.groupby('y')\n",
    "    for name, group in data_groups:\n",
    "        plt.plot(group.x_1, group.x_2, marker='o', linestyle='', markersize=7, label=name)\n",
    "    plt.legend()\n",
    "\n",
    "    color = iter(cm.rainbow(np.linspace(0, 1, 5)))\n",
    "    plot_line(\n",
    "        -orig_weights[0, 1] / orig_weights[0, 2],\n",
    "        -orig_weights[0, 0] / orig_weights[0, 2],\n",
    "        label=\"f\",\n",
    "        color=next(color),\n",
    "    )\n",
    "    plot_line(\n",
    "        -appr_weights[1] / appr_weights[2],\n",
    "        -appr_weights[0] / appr_weights[2],\n",
    "        label=\"g\",\n",
    "        color=next(color),\n",
    "    )\n",
    "    for i in range(3):\n",
    "        c = next(color)\n",
    "        inc = int(len(hist_weights) / 3)\n",
    "        idx = i * inc\n",
    "        plot_line(\n",
    "            -hist_weights[idx][1] / hist_weights[idx][2],\n",
    "            -hist_weights[idx][0] / hist_weights[idx][2],\n",
    "            label=f\"It{idx}\",\n",
    "            color=c,\n",
    "        )\n",
    "    plt.xlim(-100, 100)\n",
    "    plt.ylim(-100, 100)\n",
    "    plt.xlabel(\"x_1\")\n",
    "    plt.ylabel(\"x_2\")\n",
    "    plt.title(f'Perceptron needs {n_iter} iterations to converge')\n",
    "    plt.show()"
   ]
  },
  {
   "attachments": {},
   "cell_type": "markdown",
   "metadata": {
    "id": "miuPMix6EDZl"
   },
   "source": [
    "**1) Generate a dataset of 20 points in 2 dimensions, and plot the results.**"
   ]
  },
  {
   "cell_type": "code",
   "execution_count": 8,
   "metadata": {
    "colab": {
     "base_uri": "https://localhost:8080/",
     "height": 449
    },
    "id": "7pcU9xzbEDZl",
    "outputId": "cb83db9f-2ea5-4dcd-c7af-4856b41034a5"
   },
   "outputs": [],
   "source": []
  },
  {
   "attachments": {},
   "cell_type": "markdown",
   "metadata": {
    "id": "52f4JlRvEDZl"
   },
   "source": [
    "**2) Run the perceptron learning algorithm on this dataset and plot the results.** "
   ]
  },
  {
   "cell_type": "code",
   "execution_count": 9,
   "metadata": {
    "colab": {
     "base_uri": "https://localhost:8080/",
     "height": 472
    },
    "id": "cnn3A4LNEDZl",
    "outputId": "147bcb15-5442-4d41-8f02-be990d42b618"
   },
   "outputs": [],
   "source": []
  },
  {
   "cell_type": "markdown",
   "metadata": {},
   "source": [
    "**3) Generate a new dataset of 100 points in 2 dimensions, run the perceptron algorithm, and plot the results.**"
   ]
  },
  {
   "cell_type": "code",
   "execution_count": 10,
   "metadata": {
    "colab": {
     "base_uri": "https://localhost:8080/",
     "height": 472
    },
    "id": "4Xr8i0b4EDZl",
    "outputId": "16f9d34a-0987-44ec-c761-d36bdc353fec"
   },
   "outputs": [],
   "source": []
  },
  {
   "cell_type": "markdown",
   "metadata": {},
   "source": [
    "**4) Generate a new dataset of 1000 points in 2 dimensions, run the perceptron algorithm, and plot the results.**"
   ]
  },
  {
   "cell_type": "code",
   "execution_count": 11,
   "metadata": {
    "colab": {
     "base_uri": "https://localhost:8080/",
     "height": 472
    },
    "id": "Owi_rOqYEDZm",
    "outputId": "06ee8ad3-164b-4e4d-9bf9-2d221a877b1d"
   },
   "outputs": [],
   "source": []
  }
 ],
 "metadata": {
  "colab": {
   "provenance": []
  },
  "kernelspec": {
   "display_name": "base",
   "language": "python",
   "name": "python3"
  },
  "language_info": {
   "codemirror_mode": {
    "name": "ipython",
    "version": 3
   },
   "file_extension": ".py",
   "mimetype": "text/x-python",
   "name": "python",
   "nbconvert_exporter": "python",
   "pygments_lexer": "ipython3",
   "version": "3.10.11"
  }
 },
 "nbformat": 4,
 "nbformat_minor": 0
}
